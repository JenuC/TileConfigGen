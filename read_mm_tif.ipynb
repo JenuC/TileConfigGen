{
 "cells": [
  {
   "cell_type": "code",
   "execution_count": 1,
   "metadata": {},
   "outputs": [],
   "source": [
    "import json\n",
    "import os\n",
    "import glob\n",
    "import pathlib\n",
    "from skimage import img_as_uint, io\n",
    "import tifffile as tf\n",
    "from tqdm import tqdm\n",
    "import re\n"
   ]
  },
  {
   "cell_type": "code",
   "execution_count": null,
   "metadata": {},
   "outputs": [],
   "source": []
  },
  {
   "cell_type": "code",
   "execution_count": 85,
   "metadata": {},
   "outputs": [],
   "source": [
    "\n",
    "# Specify the path to your JSON file\n",
    "tif_folder = r\"D:\\UserData\\PPM_calibration\\2024.02.13\\ppm_20x_colorImage_stitchingTest_1 - Copy\"\n",
    "\n",
    "\n",
    "data_folder = pathlib.Path(tif_folder) #pathlib.Path(tif_folder).parent\n",
    "tif_strip_folder = data_folder.joinpath(\"strip_metadata\")\n",
    "if not os.path.exists(tif_strip_folder):\n",
    "    os.mkdir(tif_strip_folder)"
   ]
  },
  {
   "cell_type": "code",
   "execution_count": 22,
   "metadata": {},
   "outputs": [
    {
     "data": {
      "text/plain": [
       "'D:\\\\UserData\\\\PPM_calibration\\\\2024.02.13\\\\ppm_20x_colorImage_stitchingTest_1 - Copy\\\\ppm_20x_colorImage_stitchingTest_1_MMStack_1-Pos000_000.ome.tif'"
      ]
     },
     "execution_count": 22,
     "metadata": {},
     "output_type": "execute_result"
    }
   ],
   "source": [
    "first_file = sorted( glob.glob(os.path.join(tif_folder,'*.tif')), key = lambda x: os.path.getmtime(x))[0]\n",
    "first_file"
   ]
  },
  {
   "cell_type": "code",
   "execution_count": 23,
   "metadata": {},
   "outputs": [],
   "source": [
    "mmfile = tf.TiffFile(first_file)"
   ]
  },
  {
   "cell_type": "code",
   "execution_count": 28,
   "metadata": {},
   "outputs": [],
   "source": [
    "metadata =  mmfile.micromanager_metadata"
   ]
  },
  {
   "cell_type": "code",
   "execution_count": 80,
   "metadata": {},
   "outputs": [],
   "source": [
    "pixelsize = float(re.findall('PhysicalSizeX=\"(\\d*.\\d*)\"',mmfile.ome_metadata)[0])"
   ]
  },
  {
   "cell_type": "code",
   "execution_count": 31,
   "metadata": {},
   "outputs": [],
   "source": [
    "data = metadata"
   ]
  },
  {
   "cell_type": "code",
   "execution_count": 35,
   "metadata": {},
   "outputs": [
    {
     "data": {
      "text/plain": [
       "dict_keys(['Summary', 'IndexMap', 'DisplaySettings', 'MajorVersion', 'Comments'])"
      ]
     },
     "execution_count": 35,
     "metadata": {},
     "output_type": "execute_result"
    }
   ],
   "source": [
    "data.keys()"
   ]
  },
  {
   "cell_type": "code",
   "execution_count": 40,
   "metadata": {},
   "outputs": [
    {
     "data": {
      "text/plain": [
       "9"
      ]
     },
     "execution_count": 40,
     "metadata": {},
     "output_type": "execute_result"
    }
   ],
   "source": [
    "len(data[\"Summary\"][\"StagePositions\"])"
   ]
  },
  {
   "cell_type": "code",
   "execution_count": 55,
   "metadata": {},
   "outputs": [],
   "source": [
    "def get_position_from_device(position):\n",
    "    #print(position)\n",
    "    for device in position[\n",
    "                    \"DevicePositions\"\n",
    "                ]:\n",
    "        if (device['Device']=='XYStage'):\n",
    "            x_,y_ = device['Position_um']\n",
    "            return([x_,y_])\n",
    "            "
   ]
  },
  {
   "cell_type": "code",
   "execution_count": 50,
   "metadata": {},
   "outputs": [
    {
     "data": {
      "text/plain": [
       "'1-Pos000_000'"
      ]
     },
     "execution_count": 50,
     "metadata": {},
     "output_type": "execute_result"
    }
   ],
   "source": [
    "position['Label']"
   ]
  },
  {
   "cell_type": "code",
   "execution_count": 52,
   "metadata": {},
   "outputs": [
    {
     "data": {
      "text/plain": [
       "0"
      ]
     },
     "execution_count": 52,
     "metadata": {},
     "output_type": "execute_result"
    }
   ],
   "source": [
    "position['GridCol']"
   ]
  },
  {
   "cell_type": "code",
   "execution_count": 56,
   "metadata": {},
   "outputs": [
    {
     "data": {
      "text/plain": [
       "{(0, 0): [25143.07744, -8182.639],\n",
       " (1, 0): [25723.0, -8182.639],\n",
       " (2, 0): [26302.92256, -8182.639],\n",
       " (2, 1): [26302.92256, -7708.0],\n",
       " (1, 1): [25723.0, -7708.0],\n",
       " (0, 1): [25143.07744, -7708.0],\n",
       " (0, 2): [25143.07744, -7233.361],\n",
       " (1, 2): [25723.0, -7233.361],\n",
       " (2, 2): [26302.92256, -7233.361]}"
      ]
     },
     "execution_count": 56,
     "metadata": {},
     "output_type": "execute_result"
    }
   ],
   "source": [
    "\n",
    "\n",
    "\n",
    "pos = data[\"Summary\"][\"StagePositions\"]\n",
    "label_list = {}\n",
    "position_list = {}\n",
    "for ix, position in enumerate(pos):\n",
    "    #print(ix, position)\n",
    "    position_list.update(\n",
    "        {\n",
    "            (position[\"GridCol\"], position[\"GridRow\"]): get_position_from_device(position)\n",
    "        }\n",
    "    )\n",
    "    label_list.update(\n",
    "        {\n",
    "            (position[\"GridCol\"], position[\"GridRow\"]): position[\n",
    "                \"Label\"\n",
    "            ]\n",
    "        }\n",
    "    )\n",
    "\n",
    "position_list"
   ]
  },
  {
   "cell_type": "code",
   "execution_count": 82,
   "metadata": {},
   "outputs": [],
   "source": [
    "pixel_size = pixelsize"
   ]
  },
  {
   "cell_type": "code",
   "execution_count": null,
   "metadata": {},
   "outputs": [],
   "source": [
    "\n",
    "\n",
    "save_config = True\n",
    "save_tif = True\n",
    "\n",
    "fl = glob.glob(tif_folder + r\"\\*.tif\")\n",
    "\n",
    "if save_config:\n",
    "    # position_list = np.array(position_list)\n",
    "    #pixel_size = 1.105\n",
    "    # pixel_size = 1\n",
    "    # with open(os.path.join(r\"D:\\__Data\\20230110_Mike_tissue_4x\", 'TileConfiguration.txt'), 'w') as text_file:\n",
    "    with open(\n",
    "        os.path.join(tif_strip_folder, \"TileConfiguration.txt\"),\n",
    "        \"w\",\n",
    "    ) as text_file:\n",
    "        print(\"dim = 2\", file=text_file)\n",
    "        for pos in range(len(fl)):\n",
    "            fn = pathlib.Path(fl[pos]).name\n",
    "            # print(fn)\n",
    "            xy = re.findall(r\"Pos(\\d{3})_(\\d{3})\", fn)\n",
    "            xy = [(int(x), int(y)) for x, y in xy][0]\n",
    "            # print(xy)\n",
    "            # print(position_list[xy])\n",
    "            x, y = position_list[xy]\n",
    "            # x = int(position_list[pos, 0] / pixel_size)\n",
    "            # y = int(position_list[pos, 1] / pixel_size)\n",
    "            # print(pos,fl[pos])\n",
    "            # print(x,y,label_list[xy])\n",
    "            x = x / pixel_size\n",
    "            y = y / pixel_size\n",
    "\n",
    "            # break\n",
    "            # print(f\"{fn}; ; ({int(x)}, {int(y)})\")\n",
    "            # print(\"====\")\n",
    "            print(f\"{fn}; ; ({int(x)}, {int(y)})\", file=text_file)\n",
    "            # if pos==2:\n",
    "            #    break\n",
    "    text_file.close()"
   ]
  },
  {
   "cell_type": "code",
   "execution_count": 87,
   "metadata": {},
   "outputs": [
    {
     "data": {
      "text/plain": [
       "'D:\\\\UserData\\\\PPM_calibration\\\\2024.02.13\\\\ppm_20x_colorImage_stitchingTest_1 - Copy\\\\ppm_20x_colorImage_stitchingTest_1_MMStack_1-Pos000_000.ome.tif'"
      ]
     },
     "execution_count": 87,
     "metadata": {},
     "output_type": "execute_result"
    }
   ],
   "source": [
    "fn"
   ]
  },
  {
   "cell_type": "code",
   "execution_count": null,
   "metadata": {},
   "outputs": [],
   "source": []
  },
  {
   "cell_type": "code",
   "execution_count": 89,
   "metadata": {},
   "outputs": [
    {
     "data": {
      "text/plain": [
       "['D:\\\\UserData\\\\PPM_calibration\\\\2024.02.13\\\\ppm_20x_colorImage_stitchingTest_1 - Copy\\\\ppm_20x_colorImage_stitchingTest_1_MMStack_1-Pos000_000.ome.tif',\n",
       " 'D:\\\\UserData\\\\PPM_calibration\\\\2024.02.13\\\\ppm_20x_colorImage_stitchingTest_1 - Copy\\\\ppm_20x_colorImage_stitchingTest_1_MMStack_1-Pos000_001.ome.tif',\n",
       " 'D:\\\\UserData\\\\PPM_calibration\\\\2024.02.13\\\\ppm_20x_colorImage_stitchingTest_1 - Copy\\\\ppm_20x_colorImage_stitchingTest_1_MMStack_1-Pos000_002.ome.tif',\n",
       " 'D:\\\\UserData\\\\PPM_calibration\\\\2024.02.13\\\\ppm_20x_colorImage_stitchingTest_1 - Copy\\\\ppm_20x_colorImage_stitchingTest_1_MMStack_1-Pos001_000.ome.tif',\n",
       " 'D:\\\\UserData\\\\PPM_calibration\\\\2024.02.13\\\\ppm_20x_colorImage_stitchingTest_1 - Copy\\\\ppm_20x_colorImage_stitchingTest_1_MMStack_1-Pos001_001.ome.tif',\n",
       " 'D:\\\\UserData\\\\PPM_calibration\\\\2024.02.13\\\\ppm_20x_colorImage_stitchingTest_1 - Copy\\\\ppm_20x_colorImage_stitchingTest_1_MMStack_1-Pos001_002.ome.tif',\n",
       " 'D:\\\\UserData\\\\PPM_calibration\\\\2024.02.13\\\\ppm_20x_colorImage_stitchingTest_1 - Copy\\\\ppm_20x_colorImage_stitchingTest_1_MMStack_1-Pos002_000.ome.tif',\n",
       " 'D:\\\\UserData\\\\PPM_calibration\\\\2024.02.13\\\\ppm_20x_colorImage_stitchingTest_1 - Copy\\\\ppm_20x_colorImage_stitchingTest_1_MMStack_1-Pos002_001.ome.tif',\n",
       " 'D:\\\\UserData\\\\PPM_calibration\\\\2024.02.13\\\\ppm_20x_colorImage_stitchingTest_1 - Copy\\\\ppm_20x_colorImage_stitchingTest_1_MMStack_1-Pos002_002.ome.tif']"
      ]
     },
     "execution_count": 89,
     "metadata": {},
     "output_type": "execute_result"
    }
   ],
   "source": [
    "fl"
   ]
  },
  {
   "cell_type": "code",
   "execution_count": 93,
   "metadata": {},
   "outputs": [
    {
     "name": "stderr",
     "output_type": "stream",
     "text": [
      "OME series: cannot handle discontiguous storage (2200, 2688, 3) != (2200, 2688)\n",
      "OME series: cannot handle discontiguous storage (2200, 2688, 3) != (2200, 2688)\n",
      "OME series: cannot handle discontiguous storage (2200, 2688, 3) != (2200, 2688)\n",
      "OME series: cannot handle discontiguous storage (2200, 2688, 3) != (2200, 2688)\n",
      "OME series: cannot handle discontiguous storage (2200, 2688, 3) != (2200, 2688)\n",
      "OME series: cannot handle discontiguous storage (2200, 2688, 3) != (2200, 2688)\n",
      "OME series: cannot handle discontiguous storage (2200, 2688, 3) != (2200, 2688)\n",
      "OME series: cannot handle discontiguous storage (2200, 2688, 3) != (2200, 2688)\n",
      "OME series: cannot handle discontiguous storage (2200, 2688, 3) != (2200, 2688)\n",
      "OME series: not an ome-tiff master file\n"
     ]
    },
    {
     "name": "stdout",
     "output_type": "stream",
     "text": [
      "(2200, 2688, 3)\n",
      "(2200, 2688, 3)\n"
     ]
    },
    {
     "name": "stderr",
     "output_type": "stream",
     "text": [
      "OME series: not an ome-tiff master file\n",
      "OME series: not an ome-tiff master file\n"
     ]
    },
    {
     "name": "stdout",
     "output_type": "stream",
     "text": [
      "(2200, 2688, 3)\n",
      "(2200, 2688, 3)\n"
     ]
    },
    {
     "name": "stderr",
     "output_type": "stream",
     "text": [
      "OME series: not an ome-tiff master file\n",
      "OME series: not an ome-tiff master file\n"
     ]
    },
    {
     "name": "stdout",
     "output_type": "stream",
     "text": [
      "(2200, 2688, 3)\n",
      "(2200, 2688, 3)\n"
     ]
    },
    {
     "name": "stderr",
     "output_type": "stream",
     "text": [
      "OME series: not an ome-tiff master file\n",
      "OME series: not an ome-tiff master file\n"
     ]
    },
    {
     "name": "stdout",
     "output_type": "stream",
     "text": [
      "(2200, 2688, 3)\n",
      "(2200, 2688, 3)\n"
     ]
    },
    {
     "name": "stderr",
     "output_type": "stream",
     "text": [
      "OME series: not an ome-tiff master file\n"
     ]
    },
    {
     "name": "stdout",
     "output_type": "stream",
     "text": [
      "(2200, 2688, 3)\n"
     ]
    }
   ],
   "source": [
    "\n",
    "stitch_folder = tif_strip_folder\n",
    "\n",
    "if save_tif:\n",
    "    for fn in fl:\n",
    "        img = tf.imread(fn)#.asarray()\n",
    "        print(img.shape)\n",
    "        nfn = os.path.join(stitch_folder, f\"{pathlib.Path(fn).name}\")\n",
    "        io.imsave(nfn, img_as_uint(img), check_contrast=False)\n"
   ]
  },
  {
   "cell_type": "code",
   "execution_count": 86,
   "metadata": {},
   "outputs": [
    {
     "name": "stderr",
     "output_type": "stream",
     "text": [
      "read_json: invalid JSON\n",
      "OME series: cannot handle discontiguous storage (2200, 2688, 3) != (2200, 2688)\n",
      "OME series: cannot handle discontiguous storage (2200, 2688, 3) != (2200, 2688)\n",
      "OME series: cannot handle discontiguous storage (2200, 2688, 3) != (2200, 2688)\n",
      "OME series: cannot handle discontiguous storage (2200, 2688, 3) != (2200, 2688)\n",
      "OME series: cannot handle discontiguous storage (2200, 2688, 3) != (2200, 2688)\n",
      "OME series: cannot handle discontiguous storage (2200, 2688, 3) != (2200, 2688)\n",
      "OME series: cannot handle discontiguous storage (2200, 2688, 3) != (2200, 2688)\n",
      "OME series: cannot handle discontiguous storage (2200, 2688, 3) != (2200, 2688)\n",
      "OME series: cannot handle discontiguous storage (2200, 2688, 3) != (2200, 2688)\n"
     ]
    },
    {
     "name": "stdout",
     "output_type": "stream",
     "text": [
      "(2200, 2688, 3)\n"
     ]
    },
    {
     "name": "stderr",
     "output_type": "stream",
     "text": [
      "  0%|          | 0/2200 [00:00<?, ?it/s]\n"
     ]
    },
    {
     "ename": "IndexError",
     "evalue": "too many indices for array: array is 3-dimensional, but 4 were indexed",
     "output_type": "error",
     "traceback": [
      "\u001b[1;31m---------------------------------------------------------------------------\u001b[0m",
      "\u001b[1;31mIndexError\u001b[0m                                Traceback (most recent call last)",
      "Cell \u001b[1;32mIn[86], line 85\u001b[0m\n\u001b[0;32m     83\u001b[0m flip_x \u001b[38;5;241m=\u001b[39m \u001b[38;5;28;01mFalse\u001b[39;00m\n\u001b[0;32m     84\u001b[0m \u001b[38;5;28;01mfor\u001b[39;00m ix \u001b[38;5;129;01min\u001b[39;00m tqdm(\u001b[38;5;28mrange\u001b[39m(img\u001b[38;5;241m.\u001b[39mshape[\u001b[38;5;241m0\u001b[39m]), total\u001b[38;5;241m=\u001b[39mimg\u001b[38;5;241m.\u001b[39mshape[\u001b[38;5;241m0\u001b[39m]):\n\u001b[1;32m---> 85\u001b[0m     img1 \u001b[38;5;241m=\u001b[39m \u001b[43mimg\u001b[49m\u001b[43m[\u001b[49m\u001b[43mix\u001b[49m\u001b[43m,\u001b[49m\u001b[43m \u001b[49m\u001b[43m:\u001b[49m\u001b[43m,\u001b[49m\u001b[43m \u001b[49m\u001b[43m:\u001b[49m\u001b[43m,\u001b[49m\u001b[43m \u001b[49m\u001b[43m:\u001b[49m\u001b[43m]\u001b[49m\n\u001b[0;32m     86\u001b[0m     \u001b[38;5;28;01mif\u001b[39;00m flip_y:\n\u001b[0;32m     87\u001b[0m         img1 \u001b[38;5;241m=\u001b[39m img1[::\u001b[38;5;241m-\u001b[39m\u001b[38;5;241m1\u001b[39m, :, :]\n",
      "\u001b[1;31mIndexError\u001b[0m: too many indices for array: array is 3-dimensional, but 4 were indexed"
     ]
    }
   ],
   "source": [
    "\n",
    "stitch_folder = tif_strip_folder\n",
    "\n",
    "if save_tif:\n",
    "    fn = fl[0]\n",
    "    img = tf.TiffFile(fn)\n",
    "    # positions_on_mmfile_stack = []\n",
    "    labels_on_mmfile_stack = []\n",
    "    for position in img.micromanager_metadata[\"Summary\"][\"StagePositions\"]:\n",
    "        # positions_on_mmfile_stack.append(get_xy_from_MM_position(position))\n",
    "        labels_on_mmfile_stack.append(position[\"Label\"])\n",
    "        # print(position['Label'], get_xy_from_MM_position(position))\n",
    "    img = img.asarray()\n",
    "    print(img.shape)\n",
    "    # print(positions_on_mmfile_stack)\n",
    "    flip_y = True\n",
    "    flip_x = False\n",
    "    for ix in tqdm(range(img.shape[0]), total=img.shape[0]):\n",
    "        img1 = img[ix, :, :, :]\n",
    "        if flip_y:\n",
    "            img1 = img1[::-1, :, :]\n",
    "        if flip_x:\n",
    "            img1 = img1[:, ::-1, :]\n",
    "\n",
    "        label = labels_on_mmfile_stack[ix][\n",
    "            2:\n",
    "        ]  # remove the image-sequence tag on label eg : '2-Pos001_000'\n",
    "        fnx = fn.replace(\"Pos000_000.ome.tif\", f\"{label}.ome.tif\")\n",
    "        nfn = os.path.join(stitch_folder, f\"{pathlib.Path(fnx).name}\")\n",
    "        # print(pathlib.Path(fn).name, pathlib.Path(nfn).name)\n",
    "        io.imsave(nfn, img_as_uint(img1), check_contrast=False)\n"
   ]
  },
  {
   "cell_type": "code",
   "execution_count": null,
   "metadata": {},
   "outputs": [],
   "source": []
  }
 ],
 "metadata": {
  "kernelspec": {
   "display_name": "base",
   "language": "python",
   "name": "python3"
  },
  "language_info": {
   "codemirror_mode": {
    "name": "ipython",
    "version": 3
   },
   "file_extension": ".py",
   "mimetype": "text/x-python",
   "name": "python",
   "nbconvert_exporter": "python",
   "pygments_lexer": "ipython3",
   "version": "3.10.12"
  }
 },
 "nbformat": 4,
 "nbformat_minor": 2
}
