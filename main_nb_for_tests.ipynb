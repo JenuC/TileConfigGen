{
 "cells": [
  {
   "cell_type": "code",
   "execution_count": 2,
   "metadata": {},
   "outputs": [],
   "source": [
    "import json\n",
    "import os\n",
    "import numpy as np\n",
    "import glob\n",
    "import pathlib\n",
    "from skimage import io, img_as_uint\n",
    "from tqdm import tqdm\n",
    "import re\n",
    "\n",
    "\n",
    "file_path = r\"D:\\__Data\\20240116_Mike_tissue_tilefix\\poslist.pos\"\n",
    "tif_folder = r\"D:\\__Data\\20240116_Mike_tissue_tilefix\\CAMM_Pancrea_361_50_1\"\n",
    "tif_strip_folder = r\"D:\\__Data\\20240116_Mike_tissue_tilefix\\strip_metadata\"\n",
    "\n",
    "\n",
    "\n"
   ]
  },
  {
   "cell_type": "code",
   "execution_count": 14,
   "metadata": {},
   "outputs": [],
   "source": [
    "import tifffile as tf"
   ]
  },
  {
   "cell_type": "code",
   "execution_count": 17,
   "metadata": {},
   "outputs": [],
   "source": [
    "\n",
    "fl = glob.glob(tif_folder + r\"\\*.tif\")\n",
    "fn = fl[0]\n",
    "\n",
    "img = tf.TiffFile(fn)\n"
   ]
  },
  {
   "cell_type": "code",
   "execution_count": 20,
   "metadata": {},
   "outputs": [],
   "source": [
    "L = img.micromanager_metadata"
   ]
  },
  {
   "cell_type": "code",
   "execution_count": 33,
   "metadata": {},
   "outputs": [
    {
     "name": "stdout",
     "output_type": "stream",
     "text": [
      "2-Pos000_000 (18919.525, 15699.905)\n",
      "2-Pos001_000 (20457.685, 15699.905)\n",
      "2-Pos002_000 (21995.845, 15699.905)\n",
      "2-Pos002_001 (21995.845, 16849.105)\n",
      "2-Pos001_001 (20457.685, 16849.105)\n",
      "2-Pos000_001 (18919.525, 16849.105)\n"
     ]
    }
   ],
   "source": [
    "def get_xy_from_MM_position(position):\n",
    "    devpos = position['DevicePositions']\n",
    "    devpos_xy = [_ for _ in devpos if _['Device'].startswith('XYStage')]\n",
    "    assert len(devpos_xy) == 1\n",
    "    x,y = devpos_xy[0]['Position_um']\n",
    "    return(x,y)\n",
    "\n",
    "for position in L['Summary']['StagePositions']:\n",
    "    print(position['Label'], get_xy_from_MM_position(position))\n",
    "\n"
   ]
  },
  {
   "cell_type": "code",
   "execution_count": 25,
   "metadata": {},
   "outputs": [],
   "source": [
    "devpos = positions['DevicePositions']"
   ]
  },
  {
   "cell_type": "code",
   "execution_count": 32,
   "metadata": {},
   "outputs": [
    {
     "data": {
      "text/plain": [
       "[18919.525, 16849.105]"
      ]
     },
     "execution_count": 32,
     "metadata": {},
     "output_type": "execute_result"
    }
   ],
   "source": [
    "[_ for _ in devpos if _['Device'].startswith('XYStage')]\n"
   ]
  },
  {
   "cell_type": "code",
   "execution_count": 35,
   "metadata": {},
   "outputs": [
    {
     "data": {
      "text/plain": [
       "(6, 1040, 1392, 3)"
      ]
     },
     "execution_count": 35,
     "metadata": {},
     "output_type": "execute_result"
    }
   ],
   "source": [
    "img.asarray().shape"
   ]
  },
  {
   "cell_type": "code",
   "execution_count": 38,
   "metadata": {},
   "outputs": [
    {
     "data": {
      "text/plain": [
       "'D:\\\\__Data\\\\20240116_Mike_tissue_tilefix\\\\CAMM_Pancrea_361_50_1\\\\CAMM_Pancrea_361_50_1_MMStack_2-Pos002_003.tif'"
      ]
     },
     "execution_count": 38,
     "metadata": {},
     "output_type": "execute_result"
    }
   ],
   "source": [
    "x=2\n",
    "y=3\n",
    "fn.replace(\"Pos000_000.ome.tif\",f\"Pos{x:03}_{y:03}.tif\")"
   ]
  },
  {
   "cell_type": "code",
   "execution_count": 39,
   "metadata": {},
   "outputs": [],
   "source": [
    "positions_on_mmfile_stack = []\n",
    "for position in img.micromanager_metadata['Summary']['StagePositions']:\n",
    "    positions_on_mmfile_stack.append(get_xy_from_MM_position(position))"
   ]
  },
  {
   "cell_type": "code",
   "execution_count": 41,
   "metadata": {},
   "outputs": [],
   "source": [
    "x,y = positions_on_mmfile_stack[0]"
   ]
  },
  {
   "cell_type": "code",
   "execution_count": 42,
   "metadata": {},
   "outputs": [],
   "source": [
    "labels_on_mmfile_stack = []\n",
    "for position in img.micromanager_metadata['Summary']['StagePositions']:\n",
    "    labels_on_mmfile_stack.append(position['Label'])\n"
   ]
  },
  {
   "cell_type": "code",
   "execution_count": 46,
   "metadata": {},
   "outputs": [
    {
     "data": {
      "text/plain": [
       "'2-Pos001_000'"
      ]
     },
     "execution_count": 46,
     "metadata": {},
     "output_type": "execute_result"
    }
   ],
   "source": [
    "labels_on_mmfile_stack[1]"
   ]
  },
  {
   "cell_type": "code",
   "execution_count": 47,
   "metadata": {},
   "outputs": [],
   "source": [
    "tif_folder = r\"D:\\__Data\\20240110_Mike_tissue_4x\\XYstack_HistopathologySlide_CAMM_Pancrea_361_50_1\"\n",
    "stripped_folder = pathlib.Path(tif_folder).parent"
   ]
  },
  {
   "cell_type": "code",
   "execution_count": 49,
   "metadata": {},
   "outputs": [
    {
     "data": {
      "text/plain": [
       "WindowsPath('D:/__Data/20240110_Mike_tissue_4x/strip_metadata')"
      ]
     },
     "execution_count": 49,
     "metadata": {},
     "output_type": "execute_result"
    }
   ],
   "source": []
  },
  {
   "cell_type": "code",
   "execution_count": null,
   "metadata": {},
   "outputs": [],
   "source": []
  }
 ],
 "metadata": {
  "kernelspec": {
   "display_name": "spath",
   "language": "python",
   "name": "python3"
  },
  "language_info": {
   "codemirror_mode": {
    "name": "ipython",
    "version": 3
   },
   "file_extension": ".py",
   "mimetype": "text/x-python",
   "name": "python",
   "nbconvert_exporter": "python",
   "pygments_lexer": "ipython3",
   "version": "3.8.17"
  }
 },
 "nbformat": 4,
 "nbformat_minor": 2
}
